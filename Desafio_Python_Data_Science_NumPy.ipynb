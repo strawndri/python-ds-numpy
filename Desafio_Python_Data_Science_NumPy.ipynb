{
  "nbformat": 4,
  "nbformat_minor": 0,
  "metadata": {
    "colab": {
      "provenance": [],
      "authorship_tag": "ABX9TyNbQObE/O35DgQVUOdvzRu9",
      "include_colab_link": true
    },
    "kernelspec": {
      "name": "python3",
      "display_name": "Python 3"
    },
    "language_info": {
      "name": "python"
    }
  },
  "cells": [
    {
      "cell_type": "markdown",
      "metadata": {
        "id": "view-in-github",
        "colab_type": "text"
      },
      "source": [
        "<a href=\"https://colab.research.google.com/github/strawndri/python-ds-numpy/blob/main/Desafio_Python_Data_Science_NumPy.ipynb\" target=\"_parent\"><img src=\"https://colab.research.google.com/assets/colab-badge.svg\" alt=\"Open In Colab\"/></a>"
      ]
    },
    {
      "cell_type": "markdown",
      "source": [
        "# Importação das bibliotecas e dos dados"
      ],
      "metadata": {
        "id": "HllPc9Fma2D4"
      }
    },
    {
      "cell_type": "code",
      "execution_count": 15,
      "metadata": {
        "id": "gfpaLT-WZH1M"
      },
      "outputs": [],
      "source": [
        "import numpy as np\n",
        "import matplotlib.pyplot as plt"
      ]
    },
    {
      "cell_type": "code",
      "source": [
        "url = 'https://raw.githubusercontent.com/strawndri/python-ds-numpy/main/dados/citrus.csv'"
      ],
      "metadata": {
        "id": "9_mPVfPJZL-a"
      },
      "execution_count": 2,
      "outputs": []
    },
    {
      "cell_type": "code",
      "source": [
        "dataset = np.loadtxt(url, delimiter=',', usecols=np.arange(1, 6, 1), skiprows=1)\n",
        "dataset"
      ],
      "metadata": {
        "colab": {
          "base_uri": "https://localhost:8080/"
        },
        "id": "O9k4b496ZXvL",
        "outputId": "4d7048f2-f25f-48a0-aa27-57d3662c9d38"
      },
      "execution_count": 3,
      "outputs": [
        {
          "output_type": "execute_result",
          "data": {
            "text/plain": [
              "array([[  2.96,  86.76, 172.  ,  85.  ,   2.  ],\n",
              "       [  3.91,  88.05, 166.  ,  78.  ,   3.  ],\n",
              "       [  4.42,  95.17, 156.  ,  81.  ,   2.  ],\n",
              "       ...,\n",
              "       [ 15.59, 256.5 , 168.  ,  82.  ,  20.  ],\n",
              "       [ 15.92, 260.14, 142.  ,  72.  ,  11.  ],\n",
              "       [ 16.45, 261.51, 152.  ,  74.  ,   2.  ]])"
            ]
          },
          "metadata": {},
          "execution_count": 3
        }
      ]
    },
    {
      "cell_type": "markdown",
      "source": [
        "# Análise as dimensões do dataset"
      ],
      "metadata": {
        "id": "1hFjWOy45UHr"
      }
    },
    {
      "cell_type": "code",
      "source": [
        "dataset.ndim"
      ],
      "metadata": {
        "colab": {
          "base_uri": "https://localhost:8080/"
        },
        "id": "98Hr4cSM5dVk",
        "outputId": "faa43c0c-b8c5-4c9f-ff1d-d52874aed152"
      },
      "execution_count": 6,
      "outputs": [
        {
          "output_type": "execute_result",
          "data": {
            "text/plain": [
              "2"
            ]
          },
          "metadata": {},
          "execution_count": 6
        }
      ]
    },
    {
      "cell_type": "code",
      "source": [
        "dataset.size"
      ],
      "metadata": {
        "colab": {
          "base_uri": "https://localhost:8080/"
        },
        "id": "78Wl9gMX5WNc",
        "outputId": "15dbd11c-2a89-40c7-c7fa-b23083438cc9"
      },
      "execution_count": 4,
      "outputs": [
        {
          "output_type": "execute_result",
          "data": {
            "text/plain": [
              "50000"
            ]
          },
          "metadata": {},
          "execution_count": 4
        }
      ]
    },
    {
      "cell_type": "code",
      "source": [
        "dataset.shape"
      ],
      "metadata": {
        "colab": {
          "base_uri": "https://localhost:8080/"
        },
        "id": "R0ytfJJ85cYp",
        "outputId": "2a692ac5-e864-49cc-c4b8-db8438a8e3dd"
      },
      "execution_count": 5,
      "outputs": [
        {
          "output_type": "execute_result",
          "data": {
            "text/plain": [
              "(10000, 5)"
            ]
          },
          "metadata": {},
          "execution_count": 5
        }
      ]
    },
    {
      "cell_type": "markdown",
      "source": [
        "# Seleção de dados"
      ],
      "metadata": {
        "id": "Bx4VbCcW5sXH"
      }
    },
    {
      "cell_type": "code",
      "source": [
        "dataset"
      ],
      "metadata": {
        "colab": {
          "base_uri": "https://localhost:8080/"
        },
        "id": "sYne9qIl54ek",
        "outputId": "28a21037-019e-44d6-8566-cd09bcef7bb8"
      },
      "execution_count": 7,
      "outputs": [
        {
          "output_type": "execute_result",
          "data": {
            "text/plain": [
              "array([[  2.96,  86.76, 172.  ,  85.  ,   2.  ],\n",
              "       [  3.91,  88.05, 166.  ,  78.  ,   3.  ],\n",
              "       [  4.42,  95.17, 156.  ,  81.  ,   2.  ],\n",
              "       ...,\n",
              "       [ 15.59, 256.5 , 168.  ,  82.  ,  20.  ],\n",
              "       [ 15.92, 260.14, 142.  ,  72.  ,  11.  ],\n",
              "       [ 16.45, 261.51, 152.  ,  74.  ,   2.  ]])"
            ]
          },
          "metadata": {},
          "execution_count": 7
        }
      ]
    },
    {
      "cell_type": "markdown",
      "source": [
        "## Laranja"
      ],
      "metadata": {
        "id": "qIDSCnMe59VG"
      }
    },
    {
      "cell_type": "code",
      "source": [
        "diametro_laranja = dataset[0:5000, 0]\n",
        "peso_laranja = dataset[0:5000, 1]"
      ],
      "metadata": {
        "id": "sDz_CK_v5xQg"
      },
      "execution_count": 9,
      "outputs": []
    },
    {
      "cell_type": "code",
      "source": [
        "diametro_laranja"
      ],
      "metadata": {
        "colab": {
          "base_uri": "https://localhost:8080/"
        },
        "id": "cOcz6rif6YAk",
        "outputId": "241ab768-6850-463c-846d-8b821be73873"
      },
      "execution_count": 10,
      "outputs": [
        {
          "output_type": "execute_result",
          "data": {
            "text/plain": [
              "array([ 2.96,  3.91,  4.42, ..., 12.55, 12.75, 12.87])"
            ]
          },
          "metadata": {},
          "execution_count": 10
        }
      ]
    },
    {
      "cell_type": "code",
      "source": [
        "peso_laranja"
      ],
      "metadata": {
        "colab": {
          "base_uri": "https://localhost:8080/"
        },
        "id": "FKfEuDtB6ZTE",
        "outputId": "c91b3df2-59e3-4810-bf0d-e5a1e6288027"
      },
      "execution_count": 11,
      "outputs": [
        {
          "output_type": "execute_result",
          "data": {
            "text/plain": [
              "array([ 86.76,  88.05,  95.17, ..., 218.07, 230.13, 231.09])"
            ]
          },
          "metadata": {},
          "execution_count": 11
        }
      ]
    },
    {
      "cell_type": "code",
      "source": [
        "plt.plot(diametro_laranja, peso_laranja)\n",
        "plt.title(label='Crescimento do diâmetro da laranja conforme o valor do seu peso')"
      ],
      "metadata": {
        "colab": {
          "base_uri": "https://localhost:8080/",
          "height": 470
        },
        "id": "BPlClqdd6r0c",
        "outputId": "3772c623-2f2e-4637-93ea-22da9472ee6f"
      },
      "execution_count": 20,
      "outputs": [
        {
          "output_type": "execute_result",
          "data": {
            "text/plain": [
              "Text(0.5, 1.0, 'Crescimento do diâmetro da laranja conforme o valor do seu peso')"
            ]
          },
          "metadata": {},
          "execution_count": 20
        },
        {
          "output_type": "display_data",
          "data": {
            "text/plain": [
              "<Figure size 640x480 with 1 Axes>"
            ],
            "image/png": "[encoded data removed]"
          },
          "metadata": {}
        }
      ]
    },
    {
      "cell_type": "markdown",
      "source": [
        "## Toranja"
      ],
      "metadata": {
        "id": "3enEK8mI5-xG"
      }
    },
    {
      "cell_type": "code",
      "source": [
        "diametro_toranja = dataset[5000:, 0]\n",
        "peso_toranja = dataset[5000:, 1]"
      ],
      "metadata": {
        "id": "8yc5eHHV5_ln"
      },
      "execution_count": 12,
      "outputs": []
    },
    {
      "cell_type": "code",
      "source": [
        "diametro_toranja"
      ],
      "metadata": {
        "colab": {
          "base_uri": "https://localhost:8080/"
        },
        "id": "sc65fCD06d2F",
        "outputId": "8ce7f139-7074-49d2-aa06-016084cf1ace"
      },
      "execution_count": 13,
      "outputs": [
        {
          "output_type": "execute_result",
          "data": {
            "text/plain": [
              "array([ 7.63,  7.69,  7.72, ..., 15.59, 15.92, 16.45])"
            ]
          },
          "metadata": {},
          "execution_count": 13
        }
      ]
    },
    {
      "cell_type": "code",
      "source": [
        "peso_toranja"
      ],
      "metadata": {
        "colab": {
          "base_uri": "https://localhost:8080/"
        },
        "id": "I6iWcKRZ6evF",
        "outputId": "d47b79df-eaf9-41fa-b348-b063fc6f52f7"
      },
      "execution_count": 14,
      "outputs": [
        {
          "output_type": "execute_result",
          "data": {
            "text/plain": [
              "array([126.79, 133.98, 135.56, ..., 256.5 , 260.14, 261.51])"
            ]
          },
          "metadata": {},
          "execution_count": 14
        }
      ]
    },
    {
      "cell_type": "code",
      "source": [
        "plt.plot(diametro_toranja, peso_toranja)\n",
        "plt.title(label='Crescimento do diâmetro da toranja conforme o valor do seu peso')"
      ],
      "metadata": {
        "colab": {
          "base_uri": "https://localhost:8080/",
          "height": 470
        },
        "id": "TuOUY0ej7Zux",
        "outputId": "ea11f338-b65f-451b-cdc0-1917fd120c26"
      },
      "execution_count": 21,
      "outputs": [
        {
          "output_type": "execute_result",
          "data": {
            "text/plain": [
              "Text(0.5, 1.0, 'Crescimento do diâmetro da toranja conforme o valor do seu peso')"
            ]
          },
          "metadata": {},
          "execution_count": 21
        },
        {
          "output_type": "display_data",
          "data": {
            "text/plain": [
              "<Figure size 640x480 with 1 Axes>"
            ],
            "image/png": "[encoded data removed]"
          },
          "metadata": {}
        }
      ]
    },
    {
      "cell_type": "markdown",
      "source": [
        "# Calculando os coeficientes angular e linear"
      ],
      "metadata": {
        "id": "1bxOicJx7oDc"
      }
    },
    {
      "cell_type": "markdown",
      "source": [
        "## Laranja"
      ],
      "metadata": {
        "id": "snd4xkMn7vuj"
      }
    },
    {
      "cell_type": "code",
      "source": [
        "Y_laranja = diametro_laranja\n",
        "X_laranja = peso_laranja\n",
        "n_laranja = np.size(diametro_laranja)"
      ],
      "metadata": {
        "id": "AIITF3JN7tIR"
      },
      "execution_count": 22,
      "outputs": []
    },
    {
      "cell_type": "code",
      "source": [
        "a_laranja = (n_laranja*np.sum(X_laranja*Y_laranja) - np.sum(X_laranja)*np.sum(Y_laranja))/(n_laranja*np.sum(X_laranja**2) - np.sum(X_laranja)**2)\n",
        "a_laranja"
      ],
      "metadata": {
        "colab": {
          "base_uri": "https://localhost:8080/"
        },
        "id": "setrFbEE8OWu",
        "outputId": "1d4ebecb-08bc-4eab-8773-f2a781d00802"
      },
      "execution_count": 23,
      "outputs": [
        {
          "output_type": "execute_result",
          "data": {
            "text/plain": [
              "0.06748551409607516"
            ]
          },
          "metadata": {},
          "execution_count": 23
        }
      ]
    },
    {
      "cell_type": "code",
      "source": [
        "b_laranja = np.mean(Y_laranja) - a_laranja*np.mean(X_laranja)\n",
        "b_laranja"
      ],
      "metadata": {
        "colab": {
          "base_uri": "https://localhost:8080/"
        },
        "id": "Sf0gajDj8bcQ",
        "outputId": "43cdbd33-8d22-41a1-ed79-6230f3debf89"
      },
      "execution_count": 24,
      "outputs": [
        {
          "output_type": "execute_result",
          "data": {
            "text/plain": [
              "-1.837694582609636"
            ]
          },
          "metadata": {},
          "execution_count": 24
        }
      ]
    },
    {
      "cell_type": "markdown",
      "source": [
        "## Toranja"
      ],
      "metadata": {
        "id": "fukyGjbM7w7X"
      }
    },
    {
      "cell_type": "code",
      "source": [
        "Y_toranja = diametro_toranja\n",
        "X_toranja = peso_toranja\n",
        "n_toranja = np.size(diametro_toranja)"
      ],
      "metadata": {
        "id": "lSeqIU_t7xvl"
      },
      "execution_count": 25,
      "outputs": []
    },
    {
      "cell_type": "code",
      "source": [
        "a_toranja = (n_toranja*np.sum(X_toranja*Y_toranja) - np.sum(X_toranja)*np.sum(Y_toranja))/(n_toranja*np.sum(X_toranja**2) - np.sum(X_toranja)**2)\n",
        "a_toranja"
      ],
      "metadata": {
        "colab": {
          "base_uri": "https://localhost:8080/"
        },
        "id": "0x4_KYbV8lAr",
        "outputId": "ac23de42-8c25-4961-f5e2-e4dc77e132dd"
      },
      "execution_count": 26,
      "outputs": [
        {
          "output_type": "execute_result",
          "data": {
            "text/plain": [
              "0.06358962719434202"
            ]
          },
          "metadata": {},
          "execution_count": 26
        }
      ]
    },
    {
      "cell_type": "code",
      "source": [
        "b_toranja = np.mean(Y_toranja) - a_toranja*np.mean(X_toranja)\n",
        "b_toranja"
      ],
      "metadata": {
        "colab": {
          "base_uri": "https://localhost:8080/"
        },
        "id": "6Exfkt-B8n_x",
        "outputId": "30579cc7-7a87-4c3e-8510-7093fda65283"
      },
      "execution_count": 27,
      "outputs": [
        {
          "output_type": "execute_result",
          "data": {
            "text/plain": [
              "-1.0690753104473618"
            ]
          },
          "metadata": {},
          "execution_count": 27
        }
      ]
    },
    {
      "cell_type": "markdown",
      "source": [
        "# Encontrando o coeficiente angular aleatoriamente"
      ],
      "metadata": {
        "id": "afmQnKBd88lc"
      }
    },
    {
      "cell_type": "markdown",
      "source": [
        "## Laranja"
      ],
      "metadata": {
        "id": "8t2szimB9A-k"
      }
    },
    {
      "cell_type": "code",
      "source": [
        "np.random.seed(17)\n",
        "coef_angular_laranja = np.random.uniform(low=0.0, high=30.0, size=100)\n",
        "norma_laranja = np.array([])\n",
        "\n",
        "for i in range(100):\n",
        "  norma_laranja = np.append(norma_laranja, np.linalg.norm(diametro_laranja - (coef_angular_laranja[i]* X_laranja + b_laranja)))"
      ],
      "metadata": {
        "id": "YE21LHeN9AGO"
      },
      "execution_count": 33,
      "outputs": []
    },
    {
      "cell_type": "code",
      "source": [
        "norma_laranja"
      ],
      "metadata": {
        "id": "tyfGIump9l_g",
        "outputId": "e9d186a7-8f17-45f5-9b44-f30135c28409",
        "colab": {
          "base_uri": "https://localhost:8080/"
        }
      },
      "execution_count": 34,
      "outputs": [
        {
          "output_type": "execute_result",
          "data": {
            "text/plain": [
              "array([ 95490.61645758, 172532.75244678,  61808.04758468,  21438.80764331,\n",
              "       256261.80078915, 213596.3650271 , 207452.95157617, 187233.13252828,\n",
              "        12021.71040943, 116112.29761351, 308085.81321008,  18873.47321111,\n",
              "       281425.26426334, 285751.64266358,  15983.10359289, 212317.9210487 ,\n",
              "       179444.22616737, 194388.13572102, 157165.54316562,  91677.45033433,\n",
              "        96490.11762963, 182630.627843  , 128597.8612132 , 256821.92929539,\n",
              "       135924.82652146,  46258.3789829 ,  48545.19074061,  17304.90735942,\n",
              "       233746.19278075,  94723.97316045,  64176.6006026 , 270753.94272523,\n",
              "       184747.44681828,  26154.10626889, 177239.04702834,  51174.6521348 ,\n",
              "       220267.573992  ,  37953.46829588, 144582.42799458, 289243.17076913,\n",
              "       259619.55832376,  21464.40001719, 313018.33127931, 214534.19734916,\n",
              "       233987.48306555, 242086.34417131, 289162.81063446,  43006.43173317,\n",
              "       252992.66802669, 272918.23522894, 270081.50807386,   8786.85323461,\n",
              "       126745.31571006, 142053.53868625, 169282.94777111, 160216.91740661,\n",
              "        41858.12796024, 320723.72023942,  20721.02131983, 188435.25261333,\n",
              "       188922.06808539, 310912.06779759,  63742.24754118,  26475.97862328,\n",
              "       287898.33424634,   4391.12068743, 259073.19980088, 250124.13644406,\n",
              "       284038.27767418, 298428.48065284,  88681.29114719,  76457.55033709,\n",
              "       100668.14162356, 232964.43422298,  26283.33834463, 219850.90469509,\n",
              "       279623.50182771, 225536.42353963, 255640.76299251, 114632.22157581,\n",
              "        71170.8841401 ,  79393.71955771, 236807.77914874,  20206.83974683,\n",
              "       147437.00073906, 158520.33602843, 208548.20536273,  33935.69051522,\n",
              "       186582.31681671, 312874.00490753, 167665.02160473, 185346.33008222,\n",
              "       321906.88251773, 271246.06979902, 161938.20722158,  25439.46303895,\n",
              "       283712.76730783, 232129.47442086, 238342.44760473, 268225.09869749])"
            ]
          },
          "metadata": {},
          "execution_count": 34
        }
      ]
    },
    {
      "cell_type": "markdown",
      "source": [
        "## Toranja"
      ],
      "metadata": {
        "id": "KPcrDM449CBN"
      }
    },
    {
      "cell_type": "code",
      "source": [
        "np.random.seed(17)\n",
        "coef_angular_toranja = np.random.uniform(low=0.0, high=30.0, size=100)\n",
        "norma_toranja = np.array([])\n",
        "\n",
        "for i in range(100):\n",
        "  norma_toranja = np.append(norma_toranja, np.linalg.norm(diametro_toranja - (coef_angular_toranja[i]* X_toranja + b_toranja)))"
      ],
      "metadata": {
        "id": "KKd-dKBB9Cwh"
      },
      "execution_count": 39,
      "outputs": []
    },
    {
      "cell_type": "code",
      "source": [
        "norma_toranja"
      ],
      "metadata": {
        "id": "9xoPGSTH9_WH",
        "outputId": "aa517578-6483-4f09-c1c6-254cb916eaf6",
        "colab": {
          "base_uri": "https://localhost:8080/"
        }
      },
      "execution_count": 40,
      "outputs": [
        {
          "output_type": "execute_result",
          "data": {
            "text/plain": [
              "array([123016.71158747, 222222.93167604,  79644.0779144 ,  27661.09927711,\n",
              "       330039.8073406 , 275100.0454091 , 267189.24673995, 241152.43204514,\n",
              "        15534.81776085, 149570.99922803, 396772.95687601,  24357.74935656,\n",
              "       362442.49274477, 368013.51751192,  20635.85557582, 273453.80867057,\n",
              "       231122.75219905, 250365.84250296, 202434.76346873, 118106.54401683,\n",
              "       124303.75707228, 235225.84282395, 165648.50739309, 330761.07799527,\n",
              "       175083.35137311,  59620.95904697,  62565.65869527,  22337.92620051,\n",
              "       301046.73316649, 122029.51435186,  82694.03478646, 348701.16198559,\n",
              "       237951.64483394,  33732.93190764, 228283.16988248,  65951.58410683,\n",
              "       283690.47993257,  48926.82670122, 186231.63933441, 372509.51572374,\n",
              "       334363.5508177 ,  27694.0542654 , 403124.50031161, 276307.68066667,\n",
              "       301357.43972713, 311786.24452236, 372406.03695719,  55433.46617982,\n",
              "       325830.18490308, 351488.09507976, 347835.27607582,  11369.33148224,\n",
              "       163263.00711393, 182975.21937573, 218038.19778025, 206363.98091088,\n",
              "        53954.80939671, 413046.63581751,  26736.81456648, 242700.38743591,\n",
              "       243327.2537895 , 400412.29048223,  82134.72363973,  34147.40301919,\n",
              "       370777.78611457,   5708.99985852, 333660.01160289, 322136.41172517,\n",
              "       365807.23828526, 384337.32737635, 114248.42632617,  98508.06417497,\n",
              "       129683.7476787 , 300040.0721941 ,  33899.34247801, 283153.9399543 ,\n",
              "       360122.38520336, 290475.11331627, 329240.10453462, 147665.12334254,\n",
              "        91700.48850617, 102288.93351684, 304989.10063997,  26074.70921418,\n",
              "       189907.43788674, 204179.31373581, 268599.59169985,  43753.18318314,\n",
              "       240314.3845808 , 402938.65300068, 215954.81396335, 238722.81951805,\n",
              "       414570.17947139, 349334.868024  , 208580.46483903,  32812.694522  ,\n",
              "       365388.0825515 , 298964.90462739, 306965.27451726, 345444.80033446])"
            ]
          },
          "metadata": {},
          "execution_count": 40
        }
      ]
    }
  ]
}