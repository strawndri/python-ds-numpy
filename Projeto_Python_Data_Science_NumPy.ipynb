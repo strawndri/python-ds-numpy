{
  "nbformat": 4,
  "nbformat_minor": 0,
  "metadata": {
    "colab": {
      "provenance": [],
      "authorship_tag": "ABX9TyNyhoC1KijJBo+aI4Gl+EKP",
      "include_colab_link": true
    },
    "kernelspec": {
      "name": "python3",
      "display_name": "Python 3"
    },
    "language_info": {
      "name": "python"
    }
  },
  "cells": [
    {
      "cell_type": "markdown",
      "metadata": {
        "id": "view-in-github",
        "colab_type": "text"
      },
      "source": [
        "<a href=\"https://colab.research.google.com/github/strawndri/python-ds-numpy/blob/main/Projeto_Python_Data_Science_NumPy.ipynb\" target=\"_parent\"><img src=\"https://colab.research.google.com/assets/colab-badge.svg\" alt=\"Open In Colab\"/></a>"
      ]
    },
    {
      "cell_type": "markdown",
      "source": [
        "# Python para Data Science\n",
        "\n",
        "Neste Notebook, será desenvolvido um projeto baseado nas aprendizagens adquiridas no curso [NumPy: análise numérica eficiente com Python](https://www.alura.com.br/curso-online-numpy-analise-numerica-eficiente-pythons), da Alura.\n",
        "\n",
        "A NumPy é uma biblioteca em Python que oferece diversas ferramentas e funcionalidades essenciais para computação científica, incluindo objetos de matriz multidimensional chamados de arrays, rotinas para operações rápidas em matrizes, além de operações matemáticas, manipulação de forma, estatísticas e muito mais. É amplamente utilizado em áreas como análise de dados, processamento de sinais e aprendizado de máquina."
      ],
      "metadata": {
        "id": "EjktqYy2Vl8H"
      }
    },
    {
      "cell_type": "markdown",
      "source": [
        "# 1. Conhecendo a biblioteca e os nossos dados"
      ],
      "metadata": {
        "id": "y9kneBPmV8vh"
      }
    },
    {
      "cell_type": "markdown",
      "source": [
        "## 1.1 Carregando os dados\n",
        "\n",
        "A função `loadtxt` é utilizada para carregar dados a partir de um arquivo de texto em uma matriz NumPy. A função permite especificar várias opções, como delimitadores, tipos de dados e linhas a serem ignoradas.\n",
        "\n",
        "https://numpy.org/doc/stable/reference/generated/numpy.loadtxt.html"
      ],
      "metadata": {
        "id": "OSp-fi4NWQyK"
      }
    },
    {
      "cell_type": "code",
      "execution_count": 1,
      "metadata": {
        "id": "l01qq_SMgXwl"
      },
      "outputs": [],
      "source": [
        "import numpy as np"
      ]
    },
    {
      "cell_type": "code",
      "source": [
        "url = 'https://raw.githubusercontent.com/strawndri/python-ds-numpy/main/dados/apples_ts.csv'"
      ],
      "metadata": {
        "id": "LhjcFPcbSTtJ"
      },
      "execution_count": 2,
      "outputs": []
    },
    {
      "cell_type": "code",
      "source": [
        "dado = np.loadtxt(url, delimiter = ',', usecols=np.arange(1, 88, 1))"
      ],
      "metadata": {
        "id": "MmuR9O4wQZuK"
      },
      "execution_count": 3,
      "outputs": []
    },
    {
      "cell_type": "markdown",
      "source": [
        "## 1.2 Dimensões do array\n",
        "\n",
        "No NumPy, um array é uma estrutura fundamental que pode ter uma ou mais dimensões. As dimensões são os eixos ao longo dos quais os elementos estão organizados.\n",
        "\n",
        "Existem múltiplas maneiras de obter informações sobre a dimensão de um array:\n",
        "\n",
        "* [`ndim`](https://numpy.org/doc/stable/reference/generated/numpy.ndarray.ndim.html): atributo que retorna quantas dimensões o array possui;\n",
        "* [`size`](https://numpy.org/doc/stable/reference/generated/numpy.ndarray.size.html): atributo que retorna o número total de elementos de um array;\n",
        "* [`shape`](https://numpy.org/doc/stable/reference/generated/numpy.ndarray.shape.html): atributo que apresenta a quantidade de elementos por dimensão."
      ],
      "metadata": {
        "id": "D2mVnZmUW8sg"
      }
    },
    {
      "cell_type": "code",
      "source": [
        "dado.ndim"
      ],
      "metadata": {
        "id": "jvJMmucAYCLt",
        "outputId": "1fe99d79-2e88-4bd9-9295-928c8c2a9ce6",
        "colab": {
          "base_uri": "https://localhost:8080/"
        }
      },
      "execution_count": 4,
      "outputs": [
        {
          "output_type": "execute_result",
          "data": {
            "text/plain": [
              "2"
            ]
          },
          "metadata": {},
          "execution_count": 4
        }
      ]
    },
    {
      "cell_type": "code",
      "source": [
        "dado.size"
      ],
      "metadata": {
        "id": "QF32LSyaYDkL",
        "outputId": "db0ee109-ea23-434e-9721-0aa4f131988d",
        "colab": {
          "base_uri": "https://localhost:8080/"
        }
      },
      "execution_count": 5,
      "outputs": [
        {
          "output_type": "execute_result",
          "data": {
            "text/plain": [
              "522"
            ]
          },
          "metadata": {},
          "execution_count": 5
        }
      ]
    },
    {
      "cell_type": "code",
      "source": [
        "dado.shape"
      ],
      "metadata": {
        "id": "ZzB96aGMYEdU",
        "outputId": "972e81d7-a9f5-49db-dd3b-6edb3ebb4e78",
        "colab": {
          "base_uri": "https://localhost:8080/"
        }
      },
      "execution_count": 6,
      "outputs": [
        {
          "output_type": "execute_result",
          "data": {
            "text/plain": [
              "(6, 87)"
            ]
          },
          "metadata": {},
          "execution_count": 6
        }
      ]
    },
    {
      "cell_type": "markdown",
      "source": [
        "### Transposição de um array\n",
        "\n",
        "A transposição de um array é uma operação que troca as linhas por colunas (e vice-versa) de uma matriz. No NumPy, essa operação é realizada usando, por exemplo, o atributo `T`.\n",
        "\n",
        "https://numpy.org/doc/stable/reference/generated/numpy.ndarray.T.html"
      ],
      "metadata": {
        "id": "Ku0MA4fpYMpJ"
      }
    },
    {
      "cell_type": "code",
      "source": [
        "dado_transposto = dado.T\n",
        "dado_transposto"
      ],
      "metadata": {
        "id": "dCMjH6QGYOda",
        "outputId": "98c6303c-ba01-4fa5-9881-a56daff5d15c",
        "colab": {
          "base_uri": "https://localhost:8080/"
        }
      },
      "execution_count": 7,
      "outputs": [
        {
          "output_type": "execute_result",
          "data": {
            "text/plain": [
              "array([[  1.2013,  79.72  ,  42.67  ,  62.55  ,  48.26  ,  71.25  ],\n",
              "       [  2.2013,  81.08  ,  44.37  ,  62.73  ,  51.01  ,  71.35  ],\n",
              "       [  3.2013,  79.68  ,  44.73  ,  63.43  ,  50.91  ,  70.9   ],\n",
              "       [  4.2013,  79.8   ,  46.75  ,  63.83  ,  53.94  ,  71.92  ],\n",
              "       [  5.2013,  80.63  ,      nan,  66.06  ,  61.27  ,  72.91  ],\n",
              "       [  6.2013,  80.8   ,  51.59  ,  69.22  ,  65.44  ,  74.39  ],\n",
              "       [  7.2013,  80.28  ,  57.8   ,  72.07  ,  56.51  ,  73.1   ],\n",
              "       [  8.2013,  78.99  ,  62.14  ,  69.31  ,  53.    ,  70.24  ],\n",
              "       [  9.2013,  76.77  ,  56.76  ,  65.18  ,  43.87  ,  69.12  ],\n",
              "       [ 10.2013,  76.09  ,  50.85  ,  62.13  ,  42.12  ,  68.98  ],\n",
              "       [ 11.2013,  76.36  ,  46.43  ,  64.17  ,  43.98  ,  68.58  ],\n",
              "       [ 12.2013,  77.16  ,  46.73  ,  65.5   ,  44.66  ,  69.5   ],\n",
              "       [  1.2014,  77.5   ,  45.85  ,  66.85  ,  47.73  ,  70.14  ],\n",
              "       [  2.2014,  79.03  ,  49.25  ,  68.38  ,  52.31  ,  70.58  ],\n",
              "       [  3.2014,  80.28  ,  48.14  ,  68.77  ,  56.8   ,  70.78  ],\n",
              "       [  4.2014,  80.05  ,  49.18  ,  69.32  ,  51.15  ,  72.78  ],\n",
              "       [  5.2014,  78.11  ,  49.49  ,  69.77  ,  54.63  ,  72.84  ],\n",
              "       [  6.2014,  76.9   ,  49.83  ,  70.17  ,  55.8   ,  74.74  ],\n",
              "       [  7.2014,  77.68  ,  49.14  ,  70.76  ,  57.31  ,  76.43  ],\n",
              "       [  8.2014,  76.05  ,  63.21  ,  75.16  ,  53.81  ,  81.2   ],\n",
              "       [  9.2014,  75.53  ,  61.2   ,  74.86  ,  55.5   ,  82.04  ],\n",
              "       [ 10.2014,  73.39  ,  60.34  ,  71.47  ,  52.95  ,  79.67  ],\n",
              "       [ 11.2014,  78.36  ,  62.2   ,  76.08  ,  53.29  ,  81.25  ],\n",
              "       [ 12.2014,  89.16  ,  74.2   ,  82.11  ,  54.86  ,  85.88  ],\n",
              "       [  1.2015, 105.43  ,  75.32  ,  94.63  ,  71.72  ,  91.35  ],\n",
              "       [  2.2015, 104.82  ,  75.92  ,  98.54  ,  74.36  , 101.32  ],\n",
              "       [  3.2015, 101.15  ,  72.89  ,  97.84  ,  78.25  , 102.45  ],\n",
              "       [  4.2015,  98.63  ,  74.85  ,  94.54  ,  70.63  ,  98.18  ],\n",
              "       [  5.2015,  99.96  ,  92.19  ,  97.88  ,  77.06  , 105.1   ],\n",
              "       [  6.2015,  97.29  ,  99.7   ,  97.73  ,  81.52  , 104.85  ],\n",
              "       [  7.2015,  98.64  , 102.78  , 100.89  ,  84.12  , 111.48  ],\n",
              "       [  8.2015, 104.26  ,  92.67  , 104.88  ,  83.33  , 118.51  ],\n",
              "       [  9.2015, 102.63  ,  90.63  , 104.39  ,  66.98  , 118.92  ],\n",
              "       [ 10.2015,  98.64  ,  83.31  , 101.9   ,  62.04  , 109.87  ],\n",
              "       [ 11.2015,  97.17  ,  75.5   ,  98.99  ,  59.79  , 105.22  ],\n",
              "       [ 12.2015,  98.09  ,  74.6   ,  99.42  ,  66.06  , 105.45  ],\n",
              "       [  1.2016, 103.07  ,  76.94  , 106.37  ,  71.99  , 115.61  ],\n",
              "       [  2.2016, 110.26  ,  83.04  , 113.89  ,  76.79  , 116.61  ],\n",
              "       [  3.2016, 110.84  ,  80.74  , 114.78  ,  80.98  , 120.39  ],\n",
              "       [  4.2016, 112.28  ,  80.29  , 115.6   ,  89.18  , 119.2   ],\n",
              "       [  5.2016, 111.1   ,  82.82  , 115.89  ,  92.71  , 119.92  ],\n",
              "       [  6.2016, 110.06  ,  86.29  , 117.66  ,  94.85  , 120.57  ],\n",
              "       [  7.2016, 113.7   ,  87.41  , 118.27  ,  99.18  , 123.37  ],\n",
              "       [  8.2016, 112.88  ,  85.1   , 114.19  ,  86.33  , 121.39  ],\n",
              "       [  9.2016, 102.08  ,  78.08  , 101.81  ,  71.94  , 118.16  ],\n",
              "       [ 10.2016,  95.54  ,  76.06  ,  91.62  ,  67.18  , 108.84  ],\n",
              "       [ 11.2016,  91.33  ,  69.23  ,  90.15  ,  62.98  , 100.78  ],\n",
              "       [ 12.2016,  89.99  ,  69.04  ,  90.55  ,  69.45  ,  99.92  ],\n",
              "       [  1.2017,  91.44  ,  64.48  ,  92.3   ,  67.56  , 100.65  ],\n",
              "       [  2.2017,  93.51  ,  65.73  ,  91.75  ,  67.92  ,  98.92  ],\n",
              "       [  3.2017,  93.6   ,  67.2   ,  92.    ,  68.4   , 100.31  ],\n",
              "       [  4.2017,  93.78  ,  70.25  ,  92.57  ,  67.97  ,  96.41  ],\n",
              "       [  5.2017,  98.91  ,  82.59  , 100.28  ,  76.33  , 101.24  ],\n",
              "       [  6.2017, 121.76  ,  92.12  , 114.33  ,  95.79  , 118.7   ],\n",
              "       [  7.2017, 129.6   , 100.82  , 122.17  , 112.36  , 133.29  ],\n",
              "       [  8.2017, 127.9   ,  95.23  , 117.83  ,  82.03  , 130.31  ],\n",
              "       [  9.2017, 114.55  ,  89.51  , 112.49  ,  73.83  , 122.4   ],\n",
              "       [ 10.2017, 101.88  ,  82.84  ,  93.7   ,  66.12  , 104.98  ],\n",
              "       [ 11.2017,  99.09  ,  82.3   ,  97.17  ,  63.24  , 107.54  ],\n",
              "       [ 12.2017, 103.35  ,  83.76  ,  95.64  ,  63.98  , 110.74  ],\n",
              "       [  1.2018, 106.58  ,  84.72  , 102.21  ,  69.1   , 110.51  ],\n",
              "       [  2.2018, 108.    ,  83.91  , 107.58  ,  70.04  , 111.46  ],\n",
              "       [  3.2018, 114.95  ,  99.14  , 110.48  ,  80.03  , 113.42  ],\n",
              "       [  4.2018, 121.17  , 101.6   , 117.73  ,  87.92  , 118.15  ],\n",
              "       [  5.2018, 122.48  , 113.03  , 122.07  ,  97.07  , 114.    ],\n",
              "       [  6.2018, 127.58  , 119.54  , 128.58  , 106.52  , 124.91  ],\n",
              "       [  7.2018, 131.89  , 118.09  , 131.12  , 108.93  , 126.06  ],\n",
              "       [  8.2018, 129.36  , 107.32  , 127.08  ,  95.17  , 123.3   ],\n",
              "       [  9.2018, 104.26  ,  82.6   , 110.99  ,  74.31  , 111.61  ],\n",
              "       [ 10.2018,  93.45  ,  77.4   ,  97.43  ,  62.63  ,  98.82  ],\n",
              "       [ 11.2018,  92.93  ,  71.77  ,  92.05  ,  69.92  ,  97.47  ],\n",
              "       [ 12.2018,  96.15  ,  71.25  ,  93.21  ,  70.58  , 103.01  ],\n",
              "       [  1.2019,  99.1   ,  71.35  ,  98.58  ,  74.63  , 109.36  ],\n",
              "       [  2.2019, 103.    ,  73.62  , 100.23  ,  78.69  , 104.79  ],\n",
              "       [  3.2019, 103.31  ,  76.2   , 102.09  ,  81.82  , 105.09  ],\n",
              "       [  4.2019, 103.01  ,  74.15  , 101.73  ,  82.36  , 103.16  ],\n",
              "       [  5.2019, 107.37  ,  75.67  , 107.28  ,  89.44  , 106.52  ],\n",
              "       [  6.2019, 116.91  ,  79.2   , 115.35  , 102.01  , 121.68  ],\n",
              "       [  7.2019, 125.29  ,  80.85  , 123.03  , 116.12  , 125.32  ],\n",
              "       [  8.2019, 123.94  ,  85.33  , 123.08  ,  92.06  , 123.41  ],\n",
              "       [  9.2019, 113.03  ,  75.02  , 109.71  ,  82.7   , 108.48  ],\n",
              "       [ 10.2019, 102.19  ,  77.95  ,  97.22  ,  66.62  ,  98.73  ],\n",
              "       [ 11.2019,  97.83  ,  78.98  ,  95.75  ,  68.11  ,  96.25  ],\n",
              "       [ 12.2019, 101.07  ,  76.55  ,  97.09  ,  73.48  , 100.12  ],\n",
              "       [  1.202 , 103.44  ,  74.89  ,  98.18  ,  82.04  , 101.29  ],\n",
              "       [  2.202 , 108.23  ,  70.    , 103.1   ,  81.19  , 102.81  ],\n",
              "       [  3.202 , 110.28  ,  81.53  , 110.6   ,  95.05  , 108.53  ]])"
            ]
          },
          "metadata": {},
          "execution_count": 7
        }
      ]
    },
    {
      "cell_type": "code",
      "source": [
        "dado_transposto.shape"
      ],
      "metadata": {
        "id": "M0FpfIhWYyir",
        "outputId": "edaa4f2d-5e97-4bf9-924b-bbae1143d2cb",
        "colab": {
          "base_uri": "https://localhost:8080/"
        }
      },
      "execution_count": 8,
      "outputs": [
        {
          "output_type": "execute_result",
          "data": {
            "text/plain": [
              "(87, 6)"
            ]
          },
          "metadata": {},
          "execution_count": 8
        }
      ]
    },
    {
      "cell_type": "markdown",
      "source": [
        "# 2. Exploração dos dados"
      ],
      "metadata": {
        "id": "bTEcNki5dygD"
      }
    },
    {
      "cell_type": "markdown",
      "source": [
        "## 2.1 Visualização e seleção\n",
        "\n",
        "### *A[ i : j ]*\n",
        "\n",
        "Recorta a lista *A* do índice i até o j. Neste fatiamento o elemento com índice i é **incluído** e o elemento com índice j **não é incluído** no resultado."
      ],
      "metadata": {
        "id": "rDbX7yHwd3Cq"
      }
    },
    {
      "cell_type": "code",
      "source": [
        "datas = dado_transposto[:, 0]\n",
        "datas"
      ],
      "metadata": {
        "id": "i8vMkiS6d2Fx",
        "outputId": "0383b767-dc8d-47a2-ca0d-d5a2bd0958d6",
        "colab": {
          "base_uri": "https://localhost:8080/"
        }
      },
      "execution_count": 9,
      "outputs": [
        {
          "output_type": "execute_result",
          "data": {
            "text/plain": [
              "array([ 1.2013,  2.2013,  3.2013,  4.2013,  5.2013,  6.2013,  7.2013,\n",
              "        8.2013,  9.2013, 10.2013, 11.2013, 12.2013,  1.2014,  2.2014,\n",
              "        3.2014,  4.2014,  5.2014,  6.2014,  7.2014,  8.2014,  9.2014,\n",
              "       10.2014, 11.2014, 12.2014,  1.2015,  2.2015,  3.2015,  4.2015,\n",
              "        5.2015,  6.2015,  7.2015,  8.2015,  9.2015, 10.2015, 11.2015,\n",
              "       12.2015,  1.2016,  2.2016,  3.2016,  4.2016,  5.2016,  6.2016,\n",
              "        7.2016,  8.2016,  9.2016, 10.2016, 11.2016, 12.2016,  1.2017,\n",
              "        2.2017,  3.2017,  4.2017,  5.2017,  6.2017,  7.2017,  8.2017,\n",
              "        9.2017, 10.2017, 11.2017, 12.2017,  1.2018,  2.2018,  3.2018,\n",
              "        4.2018,  5.2018,  6.2018,  7.2018,  8.2018,  9.2018, 10.2018,\n",
              "       11.2018, 12.2018,  1.2019,  2.2019,  3.2019,  4.2019,  5.2019,\n",
              "        6.2019,  7.2019,  8.2019,  9.2019, 10.2019, 11.2019, 12.2019,\n",
              "        1.202 ,  2.202 ,  3.202 ])"
            ]
          },
          "metadata": {},
          "execution_count": 9
        }
      ]
    },
    {
      "cell_type": "code",
      "source": [
        "precos = dado_transposto[:, 1:6]\n",
        "precos"
      ],
      "metadata": {
        "id": "dml_czPieKhZ",
        "outputId": "ad2a7ac6-7d52-48b1-a8a0-7953b4ec7452",
        "colab": {
          "base_uri": "https://localhost:8080/"
        }
      },
      "execution_count": 11,
      "outputs": [
        {
          "output_type": "execute_result",
          "data": {
            "text/plain": [
              "array([[ 79.72,  42.67,  62.55,  48.26,  71.25],\n",
              "       [ 81.08,  44.37,  62.73,  51.01,  71.35],\n",
              "       [ 79.68,  44.73,  63.43,  50.91,  70.9 ],\n",
              "       [ 79.8 ,  46.75,  63.83,  53.94,  71.92],\n",
              "       [ 80.63,    nan,  66.06,  61.27,  72.91],\n",
              "       [ 80.8 ,  51.59,  69.22,  65.44,  74.39],\n",
              "       [ 80.28,  57.8 ,  72.07,  56.51,  73.1 ],\n",
              "       [ 78.99,  62.14,  69.31,  53.  ,  70.24],\n",
              "       [ 76.77,  56.76,  65.18,  43.87,  69.12],\n",
              "       [ 76.09,  50.85,  62.13,  42.12,  68.98],\n",
              "       [ 76.36,  46.43,  64.17,  43.98,  68.58],\n",
              "       [ 77.16,  46.73,  65.5 ,  44.66,  69.5 ],\n",
              "       [ 77.5 ,  45.85,  66.85,  47.73,  70.14],\n",
              "       [ 79.03,  49.25,  68.38,  52.31,  70.58],\n",
              "       [ 80.28,  48.14,  68.77,  56.8 ,  70.78],\n",
              "       [ 80.05,  49.18,  69.32,  51.15,  72.78],\n",
              "       [ 78.11,  49.49,  69.77,  54.63,  72.84],\n",
              "       [ 76.9 ,  49.83,  70.17,  55.8 ,  74.74],\n",
              "       [ 77.68,  49.14,  70.76,  57.31,  76.43],\n",
              "       [ 76.05,  63.21,  75.16,  53.81,  81.2 ],\n",
              "       [ 75.53,  61.2 ,  74.86,  55.5 ,  82.04],\n",
              "       [ 73.39,  60.34,  71.47,  52.95,  79.67],\n",
              "       [ 78.36,  62.2 ,  76.08,  53.29,  81.25],\n",
              "       [ 89.16,  74.2 ,  82.11,  54.86,  85.88],\n",
              "       [105.43,  75.32,  94.63,  71.72,  91.35],\n",
              "       [104.82,  75.92,  98.54,  74.36, 101.32],\n",
              "       [101.15,  72.89,  97.84,  78.25, 102.45],\n",
              "       [ 98.63,  74.85,  94.54,  70.63,  98.18],\n",
              "       [ 99.96,  92.19,  97.88,  77.06, 105.1 ],\n",
              "       [ 97.29,  99.7 ,  97.73,  81.52, 104.85],\n",
              "       [ 98.64, 102.78, 100.89,  84.12, 111.48],\n",
              "       [104.26,  92.67, 104.88,  83.33, 118.51],\n",
              "       [102.63,  90.63, 104.39,  66.98, 118.92],\n",
              "       [ 98.64,  83.31, 101.9 ,  62.04, 109.87],\n",
              "       [ 97.17,  75.5 ,  98.99,  59.79, 105.22],\n",
              "       [ 98.09,  74.6 ,  99.42,  66.06, 105.45],\n",
              "       [103.07,  76.94, 106.37,  71.99, 115.61],\n",
              "       [110.26,  83.04, 113.89,  76.79, 116.61],\n",
              "       [110.84,  80.74, 114.78,  80.98, 120.39],\n",
              "       [112.28,  80.29, 115.6 ,  89.18, 119.2 ],\n",
              "       [111.1 ,  82.82, 115.89,  92.71, 119.92],\n",
              "       [110.06,  86.29, 117.66,  94.85, 120.57],\n",
              "       [113.7 ,  87.41, 118.27,  99.18, 123.37],\n",
              "       [112.88,  85.1 , 114.19,  86.33, 121.39],\n",
              "       [102.08,  78.08, 101.81,  71.94, 118.16],\n",
              "       [ 95.54,  76.06,  91.62,  67.18, 108.84],\n",
              "       [ 91.33,  69.23,  90.15,  62.98, 100.78],\n",
              "       [ 89.99,  69.04,  90.55,  69.45,  99.92],\n",
              "       [ 91.44,  64.48,  92.3 ,  67.56, 100.65],\n",
              "       [ 93.51,  65.73,  91.75,  67.92,  98.92],\n",
              "       [ 93.6 ,  67.2 ,  92.  ,  68.4 , 100.31],\n",
              "       [ 93.78,  70.25,  92.57,  67.97,  96.41],\n",
              "       [ 98.91,  82.59, 100.28,  76.33, 101.24],\n",
              "       [121.76,  92.12, 114.33,  95.79, 118.7 ],\n",
              "       [129.6 , 100.82, 122.17, 112.36, 133.29],\n",
              "       [127.9 ,  95.23, 117.83,  82.03, 130.31],\n",
              "       [114.55,  89.51, 112.49,  73.83, 122.4 ],\n",
              "       [101.88,  82.84,  93.7 ,  66.12, 104.98],\n",
              "       [ 99.09,  82.3 ,  97.17,  63.24, 107.54],\n",
              "       [103.35,  83.76,  95.64,  63.98, 110.74],\n",
              "       [106.58,  84.72, 102.21,  69.1 , 110.51],\n",
              "       [108.  ,  83.91, 107.58,  70.04, 111.46],\n",
              "       [114.95,  99.14, 110.48,  80.03, 113.42],\n",
              "       [121.17, 101.6 , 117.73,  87.92, 118.15],\n",
              "       [122.48, 113.03, 122.07,  97.07, 114.  ],\n",
              "       [127.58, 119.54, 128.58, 106.52, 124.91],\n",
              "       [131.89, 118.09, 131.12, 108.93, 126.06],\n",
              "       [129.36, 107.32, 127.08,  95.17, 123.3 ],\n",
              "       [104.26,  82.6 , 110.99,  74.31, 111.61],\n",
              "       [ 93.45,  77.4 ,  97.43,  62.63,  98.82],\n",
              "       [ 92.93,  71.77,  92.05,  69.92,  97.47],\n",
              "       [ 96.15,  71.25,  93.21,  70.58, 103.01],\n",
              "       [ 99.1 ,  71.35,  98.58,  74.63, 109.36],\n",
              "       [103.  ,  73.62, 100.23,  78.69, 104.79],\n",
              "       [103.31,  76.2 , 102.09,  81.82, 105.09],\n",
              "       [103.01,  74.15, 101.73,  82.36, 103.16],\n",
              "       [107.37,  75.67, 107.28,  89.44, 106.52],\n",
              "       [116.91,  79.2 , 115.35, 102.01, 121.68],\n",
              "       [125.29,  80.85, 123.03, 116.12, 125.32],\n",
              "       [123.94,  85.33, 123.08,  92.06, 123.41],\n",
              "       [113.03,  75.02, 109.71,  82.7 , 108.48],\n",
              "       [102.19,  77.95,  97.22,  66.62,  98.73],\n",
              "       [ 97.83,  78.98,  95.75,  68.11,  96.25],\n",
              "       [101.07,  76.55,  97.09,  73.48, 100.12],\n",
              "       [103.44,  74.89,  98.18,  82.04, 101.29],\n",
              "       [108.23,  70.  , 103.1 ,  81.19, 102.81],\n",
              "       [110.28,  81.53, 110.6 ,  95.05, 108.53]])"
            ]
          },
          "metadata": {},
          "execution_count": 11
        }
      ]
    },
    {
      "cell_type": "markdown",
      "source": [
        "Matplotlib é uma biblioteca em Python que oferece diversas ferramentas e funcionalidades para a criação de visualizações em gráficos. Ela permite criar gráficos estáticos, animados e interativos de forma simples e oferece recursos avançados para a criação de gráficos mais complexos. É amplamente utilizada em áreas como análise de dados, processamento de sinais e aprendizado de máquina. Neste curso iremos utilizar apenas a plt.plot, mas se você quiser se aprofundar no assunto pode consultar a documentação na biblioteca neste link:\n",
        "https://matplotlib.org/"
      ],
      "metadata": {
        "id": "J2aT08VSevlE"
      }
    },
    {
      "cell_type": "code",
      "source": [
        "import matplotlib.pyplot as plt"
      ],
      "metadata": {
        "id": "-LXqQcvFe0Tb"
      },
      "execution_count": 12,
      "outputs": []
    },
    {
      "cell_type": "code",
      "source": [
        "datas = np.arange(1, 88, 1)"
      ],
      "metadata": {
        "id": "fehlopmSfGna"
      },
      "execution_count": 15,
      "outputs": []
    },
    {
      "cell_type": "code",
      "source": [
        "plt.plot(datas, precos[:, 0])"
      ],
      "metadata": {
        "id": "zE6cF8VZe1pr",
        "outputId": "e75867e2-0e95-4d0a-c17d-287273bd6f72",
        "colab": {
          "base_uri": "https://localhost:8080/",
          "height": 447
        }
      },
      "execution_count": 16,
      "outputs": [
        {
          "output_type": "execute_result",
          "data": {
            "text/plain": [
              "[<matplotlib.lines.Line2D at 0x7df6acbd9570>]"
            ]
          },
          "metadata": {},
          "execution_count": 16
        },
        {
          "output_type": "display_data",
          "data": {
            "text/plain": [
              "<Figure size 640x480 with 1 Axes>"
            ],
            "image/png": "[encoded data removed]"
          },
          "metadata": {}
        }
      ]
    },
    {
      "cell_type": "markdown",
      "source": [
        "### Separando por cidades"
      ],
      "metadata": {
        "id": "ACUYZoeRfPXg"
      }
    },
    {
      "cell_type": "code",
      "source": [
        "moscow = precos[:,0]\n",
        "kaliningrad = precos[:,1]\n",
        "petersburg = precos[:,2]\n",
        "krasnodar = precos[:,3]\n",
        "ekaterinburg = precos[:,4]"
      ],
      "metadata": {
        "id": "SyJ0EtMffQz4"
      },
      "execution_count": 17,
      "outputs": []
    },
    {
      "cell_type": "markdown",
      "source": [
        "## 2.2 Comparação entre arrays"
      ],
      "metadata": {
        "id": "7Tqd2vJPn771"
      }
    },
    {
      "cell_type": "code",
      "source": [
        "moscow.shape"
      ],
      "metadata": {
        "id": "Wru4PqiZfbM3",
        "outputId": "bd60019d-50ae-4f5c-95ee-1b8d84a5cf1b",
        "colab": {
          "base_uri": "https://localhost:8080/"
        }
      },
      "execution_count": 18,
      "outputs": [
        {
          "output_type": "execute_result",
          "data": {
            "text/plain": [
              "(87,)"
            ]
          },
          "metadata": {},
          "execution_count": 18
        }
      ]
    },
    {
      "cell_type": "code",
      "source": [
        "moscow_ano1 = moscow[0:12]\n",
        "moscow_ano2 = moscow[12:24]\n",
        "moscow_ano3 = moscow[24:36]\n",
        "moscow_ano4 = moscow[36:48]"
      ],
      "metadata": {
        "id": "1j_FeyzBoA1f"
      },
      "execution_count": 19,
      "outputs": []
    },
    {
      "cell_type": "code",
      "source": [
        "plt.plot(np.arange(1,13,1), moscow_ano1)\n",
        "plt.plot(np.arange(1,13,1), moscow_ano2)\n",
        "plt.plot(np.arange(1,13,1), moscow_ano3)\n",
        "plt.plot(np.arange(1,13,1), moscow_ano4)\n",
        "plt.legend(['ano1','ano2','ano3','ano4'])"
      ],
      "metadata": {
        "id": "Bi4AcxwGoED_",
        "outputId": "f4d23653-b716-4f34-f10e-4877e7fcf5f5",
        "colab": {
          "base_uri": "https://localhost:8080/",
          "height": 447
        }
      },
      "execution_count": 20,
      "outputs": [
        {
          "output_type": "execute_result",
          "data": {
            "text/plain": [
              "<matplotlib.legend.Legend at 0x7df6ac73a560>"
            ]
          },
          "metadata": {},
          "execution_count": 20
        },
        {
          "output_type": "display_data",
          "data": {
            "text/plain": [
              "<Figure size 640x480 with 1 Axes>"
            ],
            "image/png": "[encoded data removed]"
          },
          "metadata": {}
        }
      ]
    },
    {
      "cell_type": "markdown",
      "source": [
        "### Iguais ou próximos"
      ],
      "metadata": {
        "id": "TYQ92fS_owoO"
      }
    },
    {
      "cell_type": "markdown",
      "source": [
        "\n",
        "A função `array_equal` é utilizada para verificar se dois arrays NumPy **são iguais elemento por elemento**. Retorna um valor booleano, `True` se os arrays são idênticos e `False` caso contrário.\n",
        "\n",
        "https://numpy.org/doc/stable/reference/generated/numpy.array_equal.html"
      ],
      "metadata": {
        "id": "Fs_ABNZMpDJQ"
      }
    },
    {
      "cell_type": "code",
      "source": [
        "np.array_equal(moscow_ano3, moscow_ano4)"
      ],
      "metadata": {
        "id": "UEGSYkr5oyMZ",
        "outputId": "f1b86c93-9faa-4df2-a070-4d44c304d98c",
        "colab": {
          "base_uri": "https://localhost:8080/"
        }
      },
      "execution_count": 21,
      "outputs": [
        {
          "output_type": "execute_result",
          "data": {
            "text/plain": [
              "False"
            ]
          },
          "metadata": {},
          "execution_count": 21
        }
      ]
    },
    {
      "cell_type": "markdown",
      "source": [
        "A função `allclose` é usada para verificar se dois arrays NumPy são aproximadamente iguais dentro de uma **tolerância especificada**. Em vez de exigir uma correspondência exata, `allclose` avalia se os elementos dos arrays são próximos o suficiente, **permitindo pequenas diferenças numéricas**.\n",
        "\n",
        "Retorna um valor booleano, `True` se os arrays são aproximadamente iguais e `False` caso contrário, com base na tolerância definida.\n",
        "\n",
        "https://numpy.org/doc/stable/reference/generated/numpy.allclose.html"
      ],
      "metadata": {
        "id": "ulk3PB2LpSQ7"
      }
    },
    {
      "cell_type": "code",
      "source": [
        "np.allclose(moscow_ano3, moscow_ano4, 10)"
      ],
      "metadata": {
        "id": "N7DEBG2do2P9",
        "outputId": "99fbdf03-f258-4842-f526-75b85b4540f5",
        "colab": {
          "base_uri": "https://localhost:8080/"
        }
      },
      "execution_count": 22,
      "outputs": [
        {
          "output_type": "execute_result",
          "data": {
            "text/plain": [
              "True"
            ]
          },
          "metadata": {},
          "execution_count": 22
        }
      ]
    },
    {
      "cell_type": "markdown",
      "source": [
        "## 2.3 Lidando com NaNs\n",
        "\n",
        "Em Python, a expressão **\"NaN\"** significa **\"Not a Number\"** (ao traduzi-la para o português, temos **\"Não é um Número\"**). Trata-se de um valor especial usado para representar resultados inválidos ou indefinidos em operações matemática."
      ],
      "metadata": {
        "id": "PZ5MacCVqSdX"
      }
    },
    {
      "cell_type": "code",
      "source": [
        "plt.plot(datas, kaliningrad)"
      ],
      "metadata": {
        "id": "DuoN-3XUqT-X",
        "outputId": "64cca1f2-8570-46e1-ef56-4bb0a1b86fcb",
        "colab": {
          "base_uri": "https://localhost:8080/",
          "height": 447
        }
      },
      "execution_count": 23,
      "outputs": [
        {
          "output_type": "execute_result",
          "data": {
            "text/plain": [
              "[<matplotlib.lines.Line2D at 0x7df6accc7fa0>]"
            ]
          },
          "metadata": {},
          "execution_count": 23
        },
        {
          "output_type": "display_data",
          "data": {
            "text/plain": [
              "<Figure size 640x480 with 1 Axes>"
            ],
            "image/png": "[encoded data removed]"
          },
          "metadata": {}
        }
      ]
    },
    {
      "cell_type": "code",
      "source": [
        "kaliningrad"
      ],
      "metadata": {
        "id": "McosriCvrEae",
        "outputId": "39bb0056-614d-4324-f23b-9c8513473225",
        "colab": {
          "base_uri": "https://localhost:8080/"
        }
      },
      "execution_count": 24,
      "outputs": [
        {
          "output_type": "execute_result",
          "data": {
            "text/plain": [
              "array([ 42.67,  44.37,  44.73,  46.75,    nan,  51.59,  57.8 ,  62.14,\n",
              "        56.76,  50.85,  46.43,  46.73,  45.85,  49.25,  48.14,  49.18,\n",
              "        49.49,  49.83,  49.14,  63.21,  61.2 ,  60.34,  62.2 ,  74.2 ,\n",
              "        75.32,  75.92,  72.89,  74.85,  92.19,  99.7 , 102.78,  92.67,\n",
              "        90.63,  83.31,  75.5 ,  74.6 ,  76.94,  83.04,  80.74,  80.29,\n",
              "        82.82,  86.29,  87.41,  85.1 ,  78.08,  76.06,  69.23,  69.04,\n",
              "        64.48,  65.73,  67.2 ,  70.25,  82.59,  92.12, 100.82,  95.23,\n",
              "        89.51,  82.84,  82.3 ,  83.76,  84.72,  83.91,  99.14, 101.6 ,\n",
              "       113.03, 119.54, 118.09, 107.32,  82.6 ,  77.4 ,  71.77,  71.25,\n",
              "        71.35,  73.62,  76.2 ,  74.15,  75.67,  79.2 ,  80.85,  85.33,\n",
              "        75.02,  77.95,  78.98,  76.55,  74.89,  70.  ,  81.53])"
            ]
          },
          "metadata": {},
          "execution_count": 24
        }
      ]
    },
    {
      "cell_type": "markdown",
      "source": [
        "### Verificando a quantidade de valores NaN\n",
        "\n",
        "A função `isnan` é usada para verificar quais elementos em um array NumPy são NaN (Not a Number), retornando um array booleano indicando a presença ou ausência de valores NaN em cada posição correspondente.\n",
        "\n",
        "https://numpy.org/doc/stable/reference/generated/numpy.isnan.html"
      ],
      "metadata": {
        "id": "5JJYlq-arQva"
      }
    },
    {
      "cell_type": "code",
      "source": [
        "sum(np.isnan(kaliningrad))"
      ],
      "metadata": {
        "id": "DyUw_xU0rMAb",
        "outputId": "61820cdd-a1b5-4dad-dfee-e7cd335d1d15",
        "colab": {
          "base_uri": "https://localhost:8080/"
        }
      },
      "execution_count": 26,
      "outputs": [
        {
          "output_type": "execute_result",
          "data": {
            "text/plain": [
              "1"
            ]
          },
          "metadata": {},
          "execution_count": 26
        }
      ]
    },
    {
      "cell_type": "markdown",
      "source": [
        "### Lidando com valores NaN\n",
        "\n",
        "Ao se deparar com valores NaN, existem diferentes caminhos a serem seguidos para evitar a existência deles em um dataset.\n",
        "\n",
        "Uma alternativa possível é realizar **interpolação**, técnica que preenche os valores \"ausentes\" por estimativas baseadas nos elementos vizinhos. Algo bastante comum, neste contexto, é trabalhar com a **média aritmética** do valor anterior e do posterior ao NaN."
      ],
      "metadata": {
        "id": "vdJ8OAdIrwlQ"
      }
    },
    {
      "cell_type": "code",
      "source": [
        "(kaliningrad[3] + kaliningrad[5])/2"
      ],
      "metadata": {
        "id": "F_3KSN5xrzWy",
        "outputId": "5e02e859-1c14-43d4-b6cb-167000339852",
        "colab": {
          "base_uri": "https://localhost:8080/"
        }
      },
      "execution_count": 27,
      "outputs": [
        {
          "output_type": "execute_result",
          "data": {
            "text/plain": [
              "49.17"
            ]
          },
          "metadata": {},
          "execution_count": 27
        }
      ]
    },
    {
      "cell_type": "markdown",
      "source": [
        "Além da maneiras simples (e manual) de calcular a média aritmética entre um conjunto e valores, também é possível utilizar a função `mean` do NumPy.\n",
        "\n",
        "https://numpy.org/doc/stable/reference/generated/numpy.mean.html"
      ],
      "metadata": {
        "id": "dC7uFr5Dsb20"
      }
    },
    {
      "cell_type": "code",
      "source": [
        "np.mean([kaliningrad[3], kaliningrad[5]])"
      ],
      "metadata": {
        "id": "mbavgPrfsX9h",
        "outputId": "35a1b065-bf40-4b98-d26f-ffda644e7322",
        "colab": {
          "base_uri": "https://localhost:8080/"
        }
      },
      "execution_count": 28,
      "outputs": [
        {
          "output_type": "execute_result",
          "data": {
            "text/plain": [
              "49.17"
            ]
          },
          "metadata": {},
          "execution_count": 28
        }
      ]
    },
    {
      "cell_type": "code",
      "source": [
        "kaliningrad[4] = np.mean([kaliningrad[3], kaliningrad[5]])"
      ],
      "metadata": {
        "id": "CWxjJU_Ostjh"
      },
      "execution_count": 29,
      "outputs": []
    },
    {
      "cell_type": "markdown",
      "source": [
        "### Comparando o preço médio entre duas cidades"
      ],
      "metadata": {
        "id": "Cc5zvCtks0qM"
      }
    },
    {
      "cell_type": "code",
      "source": [
        "np.mean(moscow)"
      ],
      "metadata": {
        "id": "_EibQI4Lsu5a",
        "outputId": "e20b691d-8ad0-4f66-e7fe-1a910d3a7aaa",
        "colab": {
          "base_uri": "https://localhost:8080/"
        }
      },
      "execution_count": 30,
      "outputs": [
        {
          "output_type": "execute_result",
          "data": {
            "text/plain": [
              "98.79781609195402"
            ]
          },
          "metadata": {},
          "execution_count": 30
        }
      ]
    },
    {
      "cell_type": "code",
      "source": [
        "np.mean(kaliningrad)"
      ],
      "metadata": {
        "id": "RMXQjt4TsxMR",
        "outputId": "a7ad5f42-4800-45c6-c031-6f13ce066bfc",
        "colab": {
          "base_uri": "https://localhost:8080/"
        }
      },
      "execution_count": 31,
      "outputs": [
        {
          "output_type": "execute_result",
          "data": {
            "text/plain": [
              "74.5506896551724"
            ]
          },
          "metadata": {},
          "execution_count": 31
        }
      ]
    }
  ]
}